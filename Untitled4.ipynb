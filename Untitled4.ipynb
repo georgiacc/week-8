{
  "nbformat": 4,
  "nbformat_minor": 0,
  "metadata": {
    "colab": {
      "provenance": [],
      "authorship_tag": "ABX9TyMCVoAUvEBpFOoz94dlM6QH",
      "include_colab_link": true
    },
    "kernelspec": {
      "name": "python3",
      "display_name": "Python 3"
    },
    "language_info": {
      "name": "python"
    }
  },
  "cells": [
    {
      "cell_type": "markdown",
      "metadata": {
        "id": "view-in-github",
        "colab_type": "text"
      },
      "source": [
        "<a href=\"https://colab.research.google.com/github/georgiacc/week-8/blob/main/Untitled4.ipynb\" target=\"_parent\"><img src=\"https://colab.research.google.com/assets/colab-badge.svg\" alt=\"Open In Colab\"/></a>"
      ]
    },
    {
      "cell_type": "code",
      "execution_count": null,
      "metadata": {
        "id": "_8Sb0YIQ1UMD"
      },
      "outputs": [],
      "source": [
        "#IMPORT LIBRARIES\n",
        "from bs4 import BeautifulSoup\n",
        "import requests\n",
        "\n",
        "#REQUEST WEBPAGE AND STORE IT AS A VARIABLE\n",
        "page_to_scrape = requests.get(\"http://quotes.toscrape.com\")\n",
        "\n",
        "#USE BEAUTIFULSOUP TO PARSE THE HTML AND STORE IT AS A VARIABLE\n",
        "soup = BeautifulSoup(page_to_scrape.text, 'html.parser')\n",
        "\n",
        "#FIND ALL THE ITEMS IN THE PAGE WITH A CLASS ATTRIBUTE OF 'TEXT'\n",
        "#AND STORE THE LIST AS A VARIABLE\n",
        "quotes = soup.findAll('span', attrs={'class':'text'})\n",
        "\n",
        "#FIND ALL THE ITEMS IN THE PAGE WITH A CLASS ATTRIBUTE OF 'AUTHOR'\n",
        "#AND STORE THE LIST AS A VARIABLE\n",
        "authors = soup.findAll('small', attrs={\"class\":\"author\"})\n",
        "\n",
        "#LOOP THROUGH BOTH LISTS USING THE 'ZIP' FUNCTION\n",
        "#AND PRINT AND FORMAT THE RESULTS\n",
        "for quote, author in zip(quotes, authors):\n",
        "    print(quote.text + \"-\" + author.text)"
      ]
    }
  ]
}